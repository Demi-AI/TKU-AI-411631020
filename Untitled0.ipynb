{
  "nbformat": 4,
  "nbformat_minor": 0,
  "metadata": {
    "colab": {
      "provenance": [],
      "authorship_tag": "ABX9TyMx27ZQ1EA+488iZVjZSEF7",
      "include_colab_link": true
    },
    "kernelspec": {
      "name": "python3",
      "display_name": "Python 3"
    },
    "language_info": {
      "name": "python"
    }
  },
  "cells": [
    {
      "cell_type": "markdown",
      "metadata": {
        "id": "view-in-github",
        "colab_type": "text"
      },
      "source": [
        "<a href=\"https://colab.research.google.com/github/Demi-AI/TKU-AI-411631020/blob/main/Untitled0.ipynb\" target=\"_parent\"><img src=\"https://colab.research.google.com/assets/colab-badge.svg\" alt=\"Open In Colab\"/></a>"
      ]
    },
    {
      "cell_type": "code",
      "execution_count": 4,
      "metadata": {
        "colab": {
          "base_uri": "https://localhost:8080/"
        },
        "id": "Z0ur9D08J4ZV",
        "outputId": "cb2e85bd-983b-48d2-b6c6-a38d31d86ab8"
      },
      "outputs": [
        {
          "output_type": "stream",
          "name": "stdout",
          "text": [
            "請輸入國文成績50\n",
            "請輸入英文成績60\n",
            "請輸入數學成績70\n",
            "你的成績總分為:180\n"
          ]
        }
      ],
      "source": [
        "國文=int(input('請輸入國文成績'))\n",
        "英文=int(input('請輸入英文成績'))\n",
        "數學=int(input('請輸入數學成績'))\n",
        "總分=國文+英文+數學\n",
        "print('你的成績總分為:'+str(總分))\n",
        "\n",
        "\n"
      ]
    }
  ]
}